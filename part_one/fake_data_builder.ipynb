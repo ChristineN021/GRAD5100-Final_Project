{
 "cells": [
  {
   "cell_type": "markdown",
   "id": "4205a8b6",
   "metadata": {},
   "source": [
    "# GRAD 5100 Final Project Part One\n",
    "## Fake Data Builder\n",
    "## Christine Nguyen"
   ]
  },
  {
   "cell_type": "markdown",
   "id": "295ef138",
   "metadata": {},
   "source": [
    "### Part One\n",
    "Generate a data set that has certain statistical properties. “Synthetic” or “Fake” data can be useful for developing and testing algorithms and models.\n",
    "\n",
    "Your solution to this part will consist of:\n",
    "* a jupyter notebook or qmd file called fake_data_builder.ipynb or fake_data_builder.qmd that:\n",
    "    * carries out the construction of the desired dataset\n",
    "    * answers the questions and provides the plots requested below\n",
    "* a copy of the fake_data.csv file that you construct.\n",
    "\n",
    "This jupyter notebook and associated fake_data.csv file should be included in your Git\n",
    "repository.\n",
    "\n",
    "Your dataset has the following properties:\n",
    "* There are 800 samples.\n",
    "* Each sample from the dataset has five features called ID, Group, Feature_1, Feature_2 and Feature_3.\n",
    "* The ID feature is a unique identifier for each sample. The identifier has the form IDxxx where x is a three digit number.\n",
    "* The Group feature is either A, B, or C. Roughly a third of each sample lies in each group.\n",
    "* Feature_1 is sampled randomly from a normal distribution with mean 2500. About 66% of the data falls between 2200 and 2800.\n",
    "* Feature_2 is sampled randomly from a normal distribution with mean 400 and standard deviation 15.\n",
    "* Feature_3 depends on the Group feature. For A, Feature_3 is approximately 3(Feature_1)-5(Feature_2). For B, Feature_3 is approximately 2(Feature_1). For C, Feature_3 is approximately -(Feature_1)+(Feature_2). In each of cases A, B, and C the difference between Feature_3 and the value given by the formula is a normally distributed random variable with mean 0 and standard deviation 12.\n",
    "\n",
    "\n",
    "1. Create a dataframe or tibble representing this dataset that has the desired properties.\n",
    "2. Answer the following questions:\n",
    "    * Based on the theoretical distribution of Feature_1, how many samples do you expect to find where the value of the feature is greater than 3000?\n",
    "    * How many samples did you actually find where Feature_1 is greater than 3000?\n",
    "    * Group the dataset by the Group field and compute the mean and standard deviation of Feature_3 within each group.\n",
    "3. Make a scatterplot of Feature_3 vs Feature_1.\n",
    "4. Write your constructed dataframe/tibble to a csv file called fake_data.csv.\n",
    "\n",
    "Hint: You build a pandas dataframe from lists or vectors from a dictionary: df =\n",
    "pd.DataFrame({'column_name_one': data 1, 'column_name_two: data 2...}). You\n",
    "build a tibble from named lists df = tibble(column_name_one = data 1, ...)"
   ]
  },
  {
   "cell_type": "markdown",
   "id": "001c01a5",
   "metadata": {},
   "source": [
    "#### Task 1."
   ]
  },
  {
   "cell_type": "code",
   "execution_count": 1,
   "id": "04dae007",
   "metadata": {
    "scrolled": false
   },
   "outputs": [
    {
     "name": "stdout",
     "output_type": "stream",
     "text": [
      "      ID Group    Feature_1   Feature_2    Feature_3\n",
      "0  ID582     C  2819.476097  379.015370 -2452.697030\n",
      "1  ID585     B  2787.580819  406.035004  5573.064529\n",
      "2  ID385     C  2345.836293  399.312355 -1941.169956\n",
      "3  ID229     C  2082.023947  424.025801 -1660.440526\n",
      "4  ID520     B  2731.295924  407.113410  5471.708016\n"
     ]
    },
    {
     "data": {
      "text/plain": [
       "B    276\n",
       "C    269\n",
       "A    255\n",
       "Name: Group, dtype: int64"
      ]
     },
     "execution_count": 1,
     "metadata": {},
     "output_type": "execute_result"
    }
   ],
   "source": [
    "import pandas as pd\n",
    "import numpy as np\n",
    "import matplotlib.pyplot as plt\n",
    "\n",
    "# Reproducibility seed\n",
    "np.random.seed(12345)\n",
    "\n",
    "# Set to store generated IDs\n",
    "generated_ids = []\n",
    "\n",
    "# Function for unique IDs\n",
    "def gen_unique_id():\n",
    "    while True:\n",
    "        new_id = 'ID' + str(np.random.randint(100, 1000))\n",
    "        if new_id not in generated_ids:\n",
    "            generated_ids.append(new_id)\n",
    "            return new_id\n",
    "\n",
    "# Generate unique IDs\n",
    "ids = [gen_unique_id() for _ in range(800)]\n",
    "\n",
    "# Groups (A, B, C)\n",
    "groups = np.random.choice(['A', 'B', 'C'], size=800)\n",
    "\n",
    "# Feature_1\n",
    "std_dev_feature_1 = (2800 - 2200) / 1.992  # 66% within 1 standard deviation\n",
    "feature_1 = np.random.normal(loc=2500, scale=std_dev_feature_1, size=800)\n",
    "\n",
    "# Feature_2 \n",
    "feature_2 = np.random.normal(loc=400, scale=15, size=800)\n",
    "\n",
    "# Feature_3 \n",
    "feature_3 = np.zeros(800)\n",
    "\n",
    "for i in range(800):\n",
    "    if groups[i] == 'A':\n",
    "        feature_3[i] = 3 * feature_1[i] - 5 * feature_2[i]\n",
    "    elif groups[i] == 'B':\n",
    "        feature_3[i] = 2 * feature_1[i]\n",
    "    elif groups[i] == 'C':\n",
    "        feature_3[i] = -feature_1[i] + feature_2[i]\n",
    "\n",
    "# Normally distributed noise to Feature_3\n",
    "feature_3 += np.random.normal(loc=0, scale=12, size=800)\n",
    "\n",
    "# DataFrame\n",
    "df = pd.DataFrame({\n",
    "    'ID': ids,\n",
    "    'Group': groups,\n",
    "    'Feature_1': feature_1,\n",
    "    'Feature_2': feature_2,\n",
    "    'Feature_3': feature_3\n",
    "})\n",
    "\n",
    "# Double-checking DataFrame\n",
    "print(df.head())\n",
    "df.shape\n",
    "df['Group'].value_counts()"
   ]
  },
  {
   "cell_type": "code",
   "execution_count": 2,
   "id": "3f030f69",
   "metadata": {},
   "outputs": [
    {
     "data": {
      "text/plain": [
       "66.0"
      ]
     },
     "execution_count": 2,
     "metadata": {},
     "output_type": "execute_result"
    }
   ],
   "source": [
    "# Count the number of values within the specified range\n",
    "count_within_range = np.sum((feature_1 >= 2200) & (feature_1 <= 2800))\n",
    "\n",
    "# Calculate the percentage\n",
    "percentage_within_range = (count_within_range / 800) * 100\n",
    "percentage_within_range"
   ]
  },
  {
   "cell_type": "markdown",
   "id": "6d6db4e0",
   "metadata": {},
   "source": [
    "#### Task 2."
   ]
  },
  {
   "cell_type": "markdown",
   "id": "0f6820f2",
   "metadata": {},
   "source": [
    "**Based on the theoretical distribution of Feature_1, how many samples do you expect to find where the value of the feature is greater than 3000?**\n",
    "\n",
    "**Answer:**   Given that about 66% of the data falls between 2200 and 2800 in a normal distribution with a mean of 2500, this implies that about 34% of the data is in the tails beyond 2800 or below 2200. Since the normal distribution is symmetric, we can assume approximately half of this 34% is in the upper tail (greater than 2800). So, around 17% of the data is expected to be in the upper tail. Since the upper 17% still includes some values under 3000, I'd expect there to be less than 17% of the data to be greater than 3000, maybe possibly 5%? So that is approximately 40 samples of Feature_1 being greater than 3000."
   ]
  },
  {
   "cell_type": "markdown",
   "id": "a6212f06",
   "metadata": {},
   "source": [
    "**How many samples did you actually find where Feature_1 is greater than 3000?**"
   ]
  },
  {
   "cell_type": "code",
   "execution_count": 3,
   "id": "ceb30ae7",
   "metadata": {},
   "outputs": [
    {
     "name": "stderr",
     "output_type": "stream",
     "text": [
      "/Users/christinen/opt/anaconda3/envs/stat2255/lib/python3.10/site-packages/scipy/__init__.py:155: UserWarning: A NumPy version >=1.18.5 and <1.26.0 is required for this version of SciPy (detected version 1.26.0\n",
      "  warnings.warn(f\"A NumPy version >={np_minversion} and <{np_maxversion}\"\n"
     ]
    },
    {
     "data": {
      "text/plain": [
       "38.765781013378216"
      ]
     },
     "execution_count": 3,
     "metadata": {},
     "output_type": "execute_result"
    }
   ],
   "source": [
    "import scipy.stats as stats\n",
    "# Set the threshold value\n",
    "threshold_value = 3000\n",
    "\n",
    "# CDF at the threshold value\n",
    "cdf_at_threshold = stats.norm.cdf(threshold_value, loc=2500, scale=std_dev_feature_1)\n",
    "\n",
    "# Probability that Feature_1 is greater than 3000\n",
    "probability_greater_than_threshold = 1 - cdf_at_threshold\n",
    "\n",
    "# Expected number of samples\n",
    "expected_num_samples_greater_than_3000 = probability_greater_than_threshold * 800\n",
    "\n",
    "expected_num_samples_greater_than_3000"
   ]
  },
  {
   "cell_type": "markdown",
   "id": "d3b79664",
   "metadata": {},
   "source": [
    "**Group the dataset by the Group field and compute the mean and standard deviation of Feature_3 within each group.** "
   ]
  },
  {
   "cell_type": "code",
   "execution_count": 4,
   "id": "aaf7a9ff",
   "metadata": {},
   "outputs": [
    {
     "data": {
      "text/html": [
       "<div>\n",
       "<style scoped>\n",
       "    .dataframe tbody tr th:only-of-type {\n",
       "        vertical-align: middle;\n",
       "    }\n",
       "\n",
       "    .dataframe tbody tr th {\n",
       "        vertical-align: top;\n",
       "    }\n",
       "\n",
       "    .dataframe thead th {\n",
       "        text-align: right;\n",
       "    }\n",
       "</style>\n",
       "<table border=\"1\" class=\"dataframe\">\n",
       "  <thead>\n",
       "    <tr style=\"text-align: right;\">\n",
       "      <th></th>\n",
       "      <th>mean</th>\n",
       "      <th>std</th>\n",
       "    </tr>\n",
       "    <tr>\n",
       "      <th>Group</th>\n",
       "      <th></th>\n",
       "      <th></th>\n",
       "    </tr>\n",
       "  </thead>\n",
       "  <tbody>\n",
       "    <tr>\n",
       "      <th>A</th>\n",
       "      <td>5575.420830</td>\n",
       "      <td>926.624174</td>\n",
       "    </tr>\n",
       "    <tr>\n",
       "      <th>B</th>\n",
       "      <td>5013.515526</td>\n",
       "      <td>629.125869</td>\n",
       "    </tr>\n",
       "    <tr>\n",
       "      <th>C</th>\n",
       "      <td>-2085.888486</td>\n",
       "      <td>302.275652</td>\n",
       "    </tr>\n",
       "  </tbody>\n",
       "</table>\n",
       "</div>"
      ],
      "text/plain": [
       "              mean         std\n",
       "Group                         \n",
       "A      5575.420830  926.624174\n",
       "B      5013.515526  629.125869\n",
       "C     -2085.888486  302.275652"
      ]
     },
     "execution_count": 4,
     "metadata": {},
     "output_type": "execute_result"
    }
   ],
   "source": [
    "group_stats = df.groupby('Group')['Feature_3'].agg(['mean', 'std'])\n",
    "group_stats"
   ]
  },
  {
   "cell_type": "markdown",
   "id": "f9c5410e",
   "metadata": {},
   "source": [
    "#### Task 3."
   ]
  },
  {
   "cell_type": "code",
   "execution_count": 5,
   "id": "ee614293",
   "metadata": {},
   "outputs": [
    {
     "data": {
      "image/png": "[encoded data removed]",
      "text/plain": [
       "<Figure size 432x288 with 1 Axes>"
      ]
     },
     "metadata": {
      "needs_background": "light"
     },
     "output_type": "display_data"
    }
   ],
   "source": [
    "plt.scatter(df['Feature_1'], df['Feature_3'])\n",
    "plt.xlabel('Feature_1')\n",
    "plt.ylabel('Feature_3')\n",
    "plt.title('Scatterplot of Feature_3 vs Feature_1')\n",
    "plt.show()"
   ]
  },
  {
   "cell_type": "markdown",
   "id": "5febf983",
   "metadata": {},
   "source": [
    "#### Task 4."
   ]
  },
  {
   "cell_type": "code",
   "execution_count": 6,
   "id": "383f0c14",
   "metadata": {},
   "outputs": [],
   "source": [
    "# DataFrame to a CSV file\n",
    "df.to_csv('fake_data.csv', index=False)"
   ]
  }
 ],
 "metadata": {
  "kernelspec": {
   "display_name": "stat2255",
   "language": "python",
   "name": "stat2255"
  },
  "language_info": {
   "codemirror_mode": {
    "name": "ipython",
    "version": 3
   },
   "file_extension": ".py",
   "mimetype": "text/x-python",
   "name": "python",
   "nbconvert_exporter": "python",
   "pygments_lexer": "ipython3",
   "version": "3.10.4"
  }
 },
 "nbformat": 4,
 "nbformat_minor": 5
}
