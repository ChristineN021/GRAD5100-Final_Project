{
 "cells": [
  {
   "cell_type": "markdown",
   "id": "980e6a7e",
   "metadata": {},
   "source": [
    "# GRAD 5100 Final Project Part Three\n",
    "## The TopChef Database\n",
    "## Christine Nguyen"
   ]
  },
  {
   "cell_type": "markdown",
   "id": "f673d5f8",
   "metadata": {},
   "source": [
    "### Part Three\n",
    "\n",
    "**The topChef database**\n",
    "\n",
    "TopChef is a reality TV show in which contestants, who are professional chefs, compete in a variety of cooking contests over the course of a season. Each episode, one or more chefs are kicked off the show, until, at the end the winner is crowned “Top Chef”.\n",
    "\n",
    "The topChef database contains information about (most of) the top Chef seasons.\n",
    "\n",
    "You can access the top chef database using the same credentials we used in class for the sakila database. The only difference is that the database name (dbname) is topChef instead of sakila.\n",
    "\n",
    "If you would prefer to work in R (and even avoid SQL), you can load the topChef data by install.packages(\"topChef\") and library(\"topChef\").\n",
    "\n",
    "There are 6 tables in the topChef database but we will focus our attention on two of them: chefdetails and judges. The chefdetails tells us information about the contestants, and the judges table tells us information about the judges.\n",
    "\n",
    "Of particular interest in the chefdetails table are the fields:\n",
    "\n",
    "* season which is the name of the season (often a city where the competition took place, but not always)\n",
    "* seasonNumber which is the number of the season\n",
    "* name which is the chef’s name\n",
    "* placement which tells where the chef finished in the competition\n",
    "* gender which tells the chef’s gender.\n",
    "\n",
    "In the judges table we are interested in:\n",
    "\n",
    "* season and seasonNumber which are the same as in the chefdetails table.\n",
    "* episode which gives the episode where the judge appeared; the show uses many guest judges varying episode by episode.\n",
    "* challengeType describes the type of challenge where the judge played a role.\n",
    "* guestJudge is the judge’s name\n",
    "* competedOnTC is ‘Yes’ if the judge was a previous top chef contestant.\n",
    "\n",
    "Top Chef problems\n",
    "\n",
    "1. There are two types of top Chef programs; the ‘Masters’ programs and the regular series. The database contains information on both. We are not interested in the ‘Masters’. There is also a season called “Canada 6” which is part of the Masters series. Create versions of the chefdetails and judges tables that exclude any records coming from seasons that include the word Masters or Canada.\n",
    "\n",
    "2. Further trim your chefdetails and judges tables by including only the columns of interest from the table descriptions above.\n",
    "\n",
    "3. Your tables should have information from 20 remaining different seasons, numbered from 1 to 20. Make a table that has two columns, one called season and one called seasonNumber showing the number associated with each season. (For example, San Francisco is season 1.)\n",
    "\n",
    "4. Answer the following questions using your tables so far.\n",
    "    1. Among all chef contestants, how many are male and how many are female?\n",
    "    2. Among all winners (placement==1) how many are male and how many are female?\n",
    "    3. Among all sets of top 3 finalists (placement=1,2,3) how many are male and how many are female?\n",
    "    4. Compare the number of times a female was placed in the top 3 with the number of times a female won. Does this number seem unusual? That is, are women who place in the top 3 less likely than expected to ultimately win the competition? Why or why not?\n",
    "5. Make a table with one row for each first place winner containing the winner’s name, the season they won, and a column containing ‘Yes’ or ‘No’ depending on whether they served as a guest judge or not.\n",
    "6. Find all contestants who were not first place winners but did serve as a guest judge at some point. Make sure to only list each name once."
   ]
  },
  {
   "cell_type": "code",
   "execution_count": 1,
   "id": "631dfb47",
   "metadata": {},
   "outputs": [],
   "source": [
    "import sqlalchemy as sqla\n",
    "import pymysql\n",
    "import pandas as pd\n",
    "import os\n",
    "\n",
    "username = \"user\"\n",
    "password = \"grad5100user\"\n",
    "awsresource = \"database-1.cwvjklnp4wu3.us-east-1.rds.amazonaws.com\"\n",
    "port = 3306\n",
    "dbname = \"topChef\"\n",
    "\n",
    "dburi = f\"mysql+pymysql://{username}:{password}@{awsresource}:{port}/{dbname}\"\n",
    "engine = sqla.create_engine(dburi)"
   ]
  },
  {
   "cell_type": "code",
   "execution_count": 2,
   "id": "56249b26",
   "metadata": {},
   "outputs": [],
   "source": [
    "def run_sql(sql, engine):\n",
    "    \"send sql to database given by engine and return the result\"\n",
    "    with engine.connect() as conn:\n",
    "        result = conn.execute(sqla.text(sql))\n",
    "    return result.all()\n",
    "\n",
    "def df_select(sql, engine):\n",
    "    \"send sql to database given by engine and return the result as a pandas dataframe\"\n",
    "    with engine.connect() as conn:\n",
    "        result = pd.read_sql(sqla.text(sql), con=conn)\n",
    "    print(f\"Retrieved {result.shape[0]} records\")\n",
    "    return result"
   ]
  },
  {
   "cell_type": "markdown",
   "id": "e0ca1436",
   "metadata": {},
   "source": [
    "#### Task 1 and Task 2."
   ]
  },
  {
   "cell_type": "code",
   "execution_count": 3,
   "id": "31f05196",
   "metadata": {
    "scrolled": true
   },
   "outputs": [
    {
     "name": "stdout",
     "output_type": "stream",
     "text": [
      "Retrieved 322 records\n",
      "chefdetails_df:\n",
      "                season  seasonNumber            name  placement  gender\n",
      "0  All Stars: New York             8   Richard Blais          1    Male\n",
      "1  All Stars: New York             8   Mike Isabella          2    Male\n",
      "2  All Stars: New York             8  Antonia Lofaso          3  Female\n",
      "3  All Stars: New York             8   Tiffany Derry          4  Female\n",
      "4  All Stars: New York             8      Carla Hall          5  Female\n",
      "Retrieved 633 records\n",
      "judges_df:\n",
      "                season  seasonNumber  episode challengeType        guestJudge  \\\n",
      "0  All Stars: New York             8        1     Quickfire     Tom Colicchio   \n",
      "1  All Stars: New York             8        1   Elimination  Anthony Bourdain   \n",
      "2  All Stars: New York             8        2     Quickfire         Joe Jonas   \n",
      "3  All Stars: New York             8        2   Elimination         Katie Lee   \n",
      "4  All Stars: New York             8        3     Quickfire       David Chang   \n",
      "\n",
      "  competedOnTC  \n",
      "0         None  \n",
      "1         None  \n",
      "2         None  \n",
      "3         None  \n",
      "4         None  \n"
     ]
    }
   ],
   "source": [
    "chefdetails_query = \"SELECT * FROM chefdetails WHERE season NOT LIKE '%Masters%' AND season NOT LIKE 'Canada%' AND season != 'Canada 6'\"\n",
    "judges_query = \"SELECT * FROM judges WHERE season NOT LIKE '%Masters%' AND season NOT LIKE 'Canada%' AND season != 'Canada 6'\"\n",
    "\n",
    "chefdetails_query = \"SELECT season, seasonNumber, name, placement, gender FROM chefdetails WHERE season NOT LIKE '%Masters%' AND season != 'Canada 6'\"\n",
    "judges_query = \"SELECT season, seasonNumber, episode, challengeType, guestJudge, competedOnTC FROM judges WHERE season NOT LIKE '%Masters%' AND season != 'Canada 6'\"\n",
    "\n",
    "chefdetails_df = df_select(chefdetails_query, engine)\n",
    "print(\"chefdetails_df:\")\n",
    "print(chefdetails_df.head())\n",
    "\n",
    "judges_df = df_select(judges_query, engine)\n",
    "print(\"judges_df:\")\n",
    "print(judges_df.head())"
   ]
  },
  {
   "cell_type": "markdown",
   "id": "67ad0067",
   "metadata": {},
   "source": [
    "#### Task 3."
   ]
  },
  {
   "cell_type": "code",
   "execution_count": 4,
   "id": "768ee73a",
   "metadata": {},
   "outputs": [
    {
     "name": "stdout",
     "output_type": "stream",
     "text": [
      "Retrieved 20 records\n",
      "seasons_df:\n",
      "                 season  seasonNumber\n",
      "0   All Stars: New York             8\n",
      "1        All-Stars L.A.            17\n",
      "2                Boston            12\n",
      "3            California            13\n",
      "4            Charleston            14\n",
      "5               Chicago             4\n",
      "6                  D.C.             7\n",
      "7              Colorado            15\n",
      "8               Houston            19\n",
      "9              Kentucky            16\n",
      "10            Las Vegas             6\n",
      "11          Los Angeles             2\n",
      "12                Miami             3\n",
      "13          New Orleans            11\n",
      "14             New York             5\n",
      "15             Portland            18\n",
      "16        San Francisco             1\n",
      "17              Seattle            10\n",
      "18                Texas             9\n",
      "19      World All Stars            20\n"
     ]
    }
   ],
   "source": [
    "seasons_query = \"SELECT DISTINCT season, seasonNumber FROM chefdetails WHERE season NOT LIKE '%Masters%' AND season != 'Canada 6'\"\n",
    "\n",
    "seasons_df = df_select(seasons_query, engine)\n",
    "print(\"seasons_df:\")\n",
    "print(seasons_df)"
   ]
  },
  {
   "cell_type": "markdown",
   "id": "0053bbf1",
   "metadata": {},
   "source": [
    "#### Task 4a."
   ]
  },
  {
   "cell_type": "code",
   "execution_count": 5,
   "id": "a8dd8456",
   "metadata": {},
   "outputs": [
    {
     "name": "stdout",
     "output_type": "stream",
     "text": [
      "Retrieved 2 records\n",
      "gender_count_df:\n",
      "   gender  count\n",
      "0    Male    170\n",
      "1  Female    152\n"
     ]
    }
   ],
   "source": [
    "gender_count_query = \"\"\"\n",
    "SELECT gender, COUNT(*) as count\n",
    "FROM chefdetails\n",
    "WHERE season NOT LIKE '%Masters%' AND season != 'Canada 6'\n",
    "GROUP BY gender\n",
    "\"\"\"\n",
    "\n",
    "gender_count_df = df_select(gender_count_query, engine)\n",
    "print(\"gender_count_df:\")\n",
    "print(gender_count_df)"
   ]
  },
  {
   "cell_type": "markdown",
   "id": "f7999022",
   "metadata": {},
   "source": [
    "#### Task 4b."
   ]
  },
  {
   "cell_type": "code",
   "execution_count": 6,
   "id": "502b6f09",
   "metadata": {},
   "outputs": [
    {
     "name": "stdout",
     "output_type": "stream",
     "text": [
      "Retrieved 2 records\n",
      "winners_gender_count_df:\n",
      "   gender  count\n",
      "0    Male     14\n",
      "1  Female      6\n"
     ]
    }
   ],
   "source": [
    "winners_gender_count_query = \"\"\"\n",
    "SELECT gender, COUNT(*) as count\n",
    "FROM chefdetails\n",
    "WHERE placement = 1 AND season NOT LIKE '%Masters%' AND season != 'Canada 6'\n",
    "GROUP BY gender\n",
    "\"\"\"\n",
    "\n",
    "winners_gender_count_df = df_select(winners_gender_count_query, engine)\n",
    "print(\"winners_gender_count_df:\")\n",
    "print(winners_gender_count_df)"
   ]
  },
  {
   "cell_type": "markdown",
   "id": "5001f6ce",
   "metadata": {},
   "source": [
    "#### Task 4c."
   ]
  },
  {
   "cell_type": "code",
   "execution_count": 7,
   "id": "d48da05d",
   "metadata": {},
   "outputs": [
    {
     "name": "stdout",
     "output_type": "stream",
     "text": [
      "Retrieved 2 records\n",
      "top3_gender_count_df:\n",
      "   gender  count\n",
      "0    Male     36\n",
      "1  Female     25\n"
     ]
    }
   ],
   "source": [
    "top3_gender_count_query = \"\"\"\n",
    "SELECT gender, COUNT(*) as count\n",
    "FROM chefdetails\n",
    "WHERE placement IN (1, 2, 3) AND season NOT LIKE '%Masters%' AND season != 'Canada 6'\n",
    "GROUP BY gender\n",
    "\"\"\"\n",
    "\n",
    "top3_gender_count_df = df_select(top3_gender_count_query, engine)\n",
    "print(\"top3_gender_count_df:\")\n",
    "print(top3_gender_count_df)"
   ]
  },
  {
   "cell_type": "markdown",
   "id": "bf91d385",
   "metadata": {},
   "source": [
    "#### Task 4d."
   ]
  },
  {
   "cell_type": "markdown",
   "id": "93501600",
   "metadata": {},
   "source": [
    "**Answer**: The total number of times a female chef reached the top 3 is 25, and the total number of times a female won is 6. This situation seems unusual, as the ratio of females placed in the top 3 to those who won is 25:6, or approximately 4.17:1. For every roughly 4 times a female chef reaches the top 3, 1 of them wins. The result suggests that women who place in the top 3 are less likely than expected to ultimately win the competition. This is based on the ratio of 4.17:1, indicating that reaching the top 3 does not guarantee a victory for female contestants."
   ]
  },
  {
   "cell_type": "code",
   "execution_count": 8,
   "id": "a30b5c72",
   "metadata": {},
   "outputs": [
    {
     "name": "stdout",
     "output_type": "stream",
     "text": [
      "Retrieved 1 records\n",
      "compare_female_df:\n",
      "   top3_count  winner_count\n",
      "0          25             6\n"
     ]
    }
   ],
   "source": [
    "compare_female_query = \"\"\"\n",
    "SELECT\n",
    "  (SELECT COUNT(*) FROM chefdetails WHERE placement IN (1, 2, 3) AND gender = 'Female' AND season NOT LIKE '%Masters%' AND season != 'Canada 6') as top3_count,\n",
    "  (SELECT COUNT(*) FROM chefdetails WHERE placement = 1 AND gender = 'Female' AND season NOT LIKE '%Masters%' AND season != 'Canada 6') as winner_count\n",
    "\"\"\"\n",
    "\n",
    "compare_female_df = df_select(compare_female_query, engine)\n",
    "print(\"compare_female_df:\")\n",
    "print(compare_female_df)"
   ]
  },
  {
   "cell_type": "markdown",
   "id": "c60e8775",
   "metadata": {},
   "source": [
    "#### Task 5."
   ]
  },
  {
   "cell_type": "code",
   "execution_count": 9,
   "id": "919a8e45",
   "metadata": {},
   "outputs": [
    {
     "name": "stdout",
     "output_type": "stream",
     "text": [
      "Retrieved 20 records\n",
      "first_place_guest_judges_query_df:\n",
      "             winner_name       winning_season served_as_guest_judge\n",
      "0          Richard Blais  All Stars: New York                   Yes\n",
      "1           Melissa King       All-Stars L.A.                   Yes\n",
      "2                Mei Lin               Boston                    No\n",
      "3            Jeremy Ford           California                    No\n",
      "4      Brooke Williamson           Charleston                   Yes\n",
      "5        Stephanie Izard              Chicago                   Yes\n",
      "6           Kevin Sbraga                 D.C.                    No\n",
      "7           Joseph Flamm             Colorado                    No\n",
      "8             Kah-wai Lo              Houston                    No\n",
      "9   Kelsey Barnard Clark             Kentucky                   Yes\n",
      "10     Michael Voltaggio            Las Vegas                   Yes\n",
      "11             Ilan Hall          Los Angeles                   Yes\n",
      "12            Hung Huynh                Miami                   Yes\n",
      "13         Nicholas Elmi          New Orleans                    No\n",
      "14       Hosea Rosenberg             New York                   Yes\n",
      "15           Gabe Erales             Portland                    No\n",
      "16       Harold Dieterle        San Francisco                   Yes\n",
      "17          Kristen Kish              Seattle                   Yes\n",
      "18              Paul Qui                Texas                    No\n",
      "19            Kah-wai Lo      World All Stars                    No\n"
     ]
    }
   ],
   "source": [
    "first_place_guest_judges_query = \"\"\"\n",
    "SELECT\n",
    "  winner_name,\n",
    "  winning_season,\n",
    "  CASE WHEN EXISTS (\n",
    "    SELECT 1 FROM judges\n",
    "    WHERE guestJudge = first_place_winners.winner_name OR competedOnTC = first_place_winners.winner_name\n",
    "  ) THEN 'Yes' ELSE 'No' END as served_as_guest_judge\n",
    "FROM\n",
    "  (\n",
    "    SELECT\n",
    "      cd.name as winner_name,\n",
    "      cd.season as winning_season\n",
    "    FROM\n",
    "      chefdetails cd\n",
    "    WHERE\n",
    "      cd.placement = 1\n",
    "      AND cd.season NOT LIKE '%Masters%' AND cd.season != 'Canada 6'\n",
    "  ) as first_place_winners;\n",
    "\"\"\" \n",
    "\n",
    "first_place_guest_judges_query_df = df_select(first_place_guest_judges_query, engine)\n",
    "\n",
    "print(\"first_place_guest_judges_query_df:\")\n",
    "print(first_place_guest_judges_query_df)"
   ]
  },
  {
   "cell_type": "markdown",
   "id": "124ea7d8",
   "metadata": {},
   "source": [
    "#### Task 6."
   ]
  },
  {
   "cell_type": "code",
   "execution_count": 13,
   "id": "b06a866e",
   "metadata": {
    "scrolled": true
   },
   "outputs": [
    {
     "name": "stdout",
     "output_type": "stream",
     "text": [
      "Retrieved 32 records\n",
      "non_winners_guest_judges_df:\n",
      "       non_winner_name served_as_guest_judge\n",
      "0        Mike Isabella                   Yes\n",
      "1       Antonia Lofaso                   Yes\n",
      "2        Tiffany Derry                   Yes\n",
      "3           Dale Talde                   Yes\n",
      "4     Spike Mendelsohn                   Yes\n",
      "5     Stephen Asprinio                   Yes\n",
      "6      Bryan Voltaggio                   Yes\n",
      "7      Gregory Gourdet                   Yes\n",
      "8      Karen Akunowicz                   Yes\n",
      "9        Lee Anne Wong                   Yes\n",
      "10         Nini Nguyen                   Yes\n",
      "11        Melissa King                   Yes\n",
      "12        Amar Santana                   Yes\n",
      "13      Kwame Onwuachi                   Yes\n",
      "14      Sheldon Simeon                   Yes\n",
      "15          Sam Talbot                   Yes\n",
      "16       Richard Blais                   Yes\n",
      "17   Adrienne Cheatham                   Yes\n",
      "18        Carrie Baird                   Yes\n",
      "19     Michael Midgley                   Yes\n",
      "20        Betty Fraser                   Yes\n",
      "21  Josie Smith-Malave                   Yes\n",
      "22        Nina Compton                   Yes\n",
      "23       Carlos Gaytan                   Yes\n",
      "24      Stefan Richter                   Yes\n",
      "25        Dawn Burrell                   Yes\n",
      "26      Shota Nakajima                   Yes\n",
      "27      Miguel Morales                   Yes\n",
      "28   Brooke Williamson                   Yes\n",
      "29          Edward Lee                   Yes\n",
      "30    Nyesha Arrington                   Yes\n",
      "31        Nicole Gomes                   Yes\n"
     ]
    }
   ],
   "source": [
    "non_winners_guest_judges_query = \"\"\"\n",
    "SELECT DISTINCT\n",
    "  non_winner_name,\n",
    "  'Yes' as served_as_guest_judge\n",
    "FROM\n",
    "  (\n",
    "    SELECT\n",
    "      cd.name as non_winner_name\n",
    "    FROM\n",
    "      chefdetails cd\n",
    "    WHERE\n",
    "      cd.placement != 1\n",
    "      AND cd.season NOT LIKE '%Masters%' AND cd.season != 'Canada 6'\n",
    "  ) as non_winner_guests\n",
    "WHERE\n",
    "  EXISTS (\n",
    "    SELECT 1 FROM judges\n",
    "    WHERE guestJudge = non_winner_guests.non_winner_name OR competedOnTC = non_winner_guests.non_winner_name\n",
    "  );\n",
    "\"\"\"\n",
    "\n",
    "non_winners_guest_judges_df = df_select(non_winners_guest_judges_query, engine)\n",
    "\n",
    "\n",
    "print(\"non_winners_guest_judges_df:\")\n",
    "print(non_winners_guest_judges_df)"
   ]
  }
 ],
 "metadata": {
  "kernelspec": {
   "display_name": "stat2255",
   "language": "python",
   "name": "stat2255"
  },
  "language_info": {
   "codemirror_mode": {
    "name": "ipython",
    "version": 3
   },
   "file_extension": ".py",
   "mimetype": "text/x-python",
   "name": "python",
   "nbconvert_exporter": "python",
   "pygments_lexer": "ipython3",
   "version": "3.10.4"
  }
 },
 "nbformat": 4,
 "nbformat_minor": 5
}
