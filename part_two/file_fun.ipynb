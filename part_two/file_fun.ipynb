{
 "cells": [
  {
   "cell_type": "markdown",
   "id": "7747669d",
   "metadata": {},
   "source": [
    "# GRAD 5100 Final Project Part Two\n",
    "## File Fun\n",
    "## Christine Nguyen"
   ]
  },
  {
   "cell_type": "markdown",
   "id": "7782929d",
   "metadata": {},
   "source": [
    "### Part Two\n",
    "\n",
    "Your answer to this part should be a jupyter notebook or qmd file called file_fun.ipynb or file_fun.qmd. This notebook should include the function asked for in part one together with the code to create the files described in part 2. You will include this file in your submitted github repository.\n",
    "\n",
    "The file codes.txt consists of 50 lines. Each line is a code of the following form:\n",
    "\n",
    "xxxxx_nnnnn_extension\n",
    "\n",
    "where xxxxx is a 5 digit number, nnnnn is a five digit alphabetic code, and extension is one of ‘py’,‘txt’, or ‘csv’.\n",
    "\n",
    "1. Write a function that takes a string of this form, extracts the alphabetic code nnnnn and the extension and returns a string of the form nnnnn.extension. So, for example, given ‘35538_YLTRR_csv’ it returns ‘YLTRR.csv’.\n",
    "\n",
    "2. Using your function, write code that reads in the entries from codes.txt and for each code writes the 5 digit number xxxxx into a file named nnnnn.extension constructed by your function in part 1. All of these files should be contained in a subdirectory of your main project directory called ‘expanded’. So for example, you would create a file called expanded/YLTRR.csv containing (just) 35538."
   ]
  },
  {
   "cell_type": "markdown",
   "id": "b87caa0c",
   "metadata": {},
   "source": [
    "#### Task 1."
   ]
  },
  {
   "cell_type": "code",
   "execution_count": 1,
   "id": "f2dcfc11",
   "metadata": {},
   "outputs": [],
   "source": [
    "def extract_code_and_extension(code_str):\n",
    "    parts = code_str.split('_')\n",
    "    return f\"{parts[1]}.{parts[2]}\""
   ]
  },
  {
   "cell_type": "code",
   "execution_count": 3,
   "id": "0608e8a0",
   "metadata": {},
   "outputs": [],
   "source": [
    "import os\n",
    "output_directory = 'expanded'\n",
    "os.makedirs(output_directory, exist_ok=True)"
   ]
  },
  {
   "cell_type": "code",
   "execution_count": 4,
   "id": "2958fc04",
   "metadata": {},
   "outputs": [
    {
     "name": "stdout",
     "output_type": "stream",
     "text": [
      "Files created successfully in the 'expanded' directory.\n"
     ]
    }
   ],
   "source": [
    "with open('codes.txt', 'r') as file:\n",
    "    for line in file:\n",
    "        code = line.strip()\n",
    "        extracted_code = extract_code_and_extension(code)\n",
    "        file_number = code.split('_')[0]\n",
    "\n",
    "        # Create a file in the 'expanded' directory\n",
    "        with open(os.path.join(output_directory, extracted_code), 'w') as output_file:\n",
    "            output_file.write(file_number)\n",
    "\n",
    "print(\"Files created successfully in the 'expanded' directory.\")"
   ]
  }
 ],
 "metadata": {
  "kernelspec": {
   "display_name": "stat2255",
   "language": "python",
   "name": "stat2255"
  },
  "language_info": {
   "codemirror_mode": {
    "name": "ipython",
    "version": 3
   },
   "file_extension": ".py",
   "mimetype": "text/x-python",
   "name": "python",
   "nbconvert_exporter": "python",
   "pygments_lexer": "ipython3",
   "version": "3.10.4"
  }
 },
 "nbformat": 4,
 "nbformat_minor": 5
}
